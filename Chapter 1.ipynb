{
 "cells": [
  {
   "cell_type": "code",
   "execution_count": 3,
   "metadata": {
    "ExecuteTime": {
     "end_time": "2019-09-01T15:04:09.219393Z",
     "start_time": "2019-09-01T15:04:09.153849Z"
    }
   },
   "outputs": [
    {
     "data": {
      "text/plain": [
       "tensor([[1., 1.],\n",
       "        [1., 1.]], requires_grad=True)"
      ]
     },
     "execution_count": 3,
     "metadata": {},
     "output_type": "execute_result"
    }
   ],
   "source": [
    "import torch\n",
    "\n",
    "x = torch.ones(2,2, requires_grad=True)\n",
    "\n",
    "x"
   ]
  },
  {
   "cell_type": "code",
   "execution_count": 4,
   "metadata": {
    "ExecuteTime": {
     "end_time": "2019-09-01T15:05:13.923965Z",
     "start_time": "2019-09-01T15:05:13.918420Z"
    }
   },
   "outputs": [],
   "source": [
    "y = (x  + 2) * (x+5)"
   ]
  },
  {
   "cell_type": "code",
   "execution_count": 5,
   "metadata": {
    "ExecuteTime": {
     "end_time": "2019-09-01T15:05:20.490849Z",
     "start_time": "2019-09-01T15:05:20.479602Z"
    }
   },
   "outputs": [
    {
     "data": {
      "text/plain": [
       "tensor([[18., 18.],\n",
       "        [18., 18.]], grad_fn=<MulBackward0>)"
      ]
     },
     "execution_count": 5,
     "metadata": {},
     "output_type": "execute_result"
    }
   ],
   "source": [
    "y"
   ]
  },
  {
   "cell_type": "code",
   "execution_count": 6,
   "metadata": {
    "ExecuteTime": {
     "end_time": "2019-09-01T15:05:31.880857Z",
     "start_time": "2019-09-01T15:05:31.876721Z"
    }
   },
   "outputs": [],
   "source": [
    "y.grad"
   ]
  },
  {
   "cell_type": "code",
   "execution_count": 8,
   "metadata": {
    "ExecuteTime": {
     "end_time": "2019-09-01T15:06:24.674013Z",
     "start_time": "2019-09-01T15:06:24.662610Z"
    }
   },
   "outputs": [],
   "source": [
    "z = y.mean()"
   ]
  },
  {
   "cell_type": "code",
   "execution_count": 10,
   "metadata": {
    "ExecuteTime": {
     "end_time": "2019-09-01T15:06:37.401982Z",
     "start_time": "2019-09-01T15:06:37.391868Z"
    }
   },
   "outputs": [
    {
     "data": {
      "text/plain": [
       "tensor(18., grad_fn=<MeanBackward0>)"
      ]
     },
     "execution_count": 10,
     "metadata": {},
     "output_type": "execute_result"
    }
   ],
   "source": [
    "z"
   ]
  },
  {
   "cell_type": "code",
   "execution_count": 9,
   "metadata": {
    "ExecuteTime": {
     "end_time": "2019-09-01T15:06:29.409934Z",
     "start_time": "2019-09-01T15:06:29.401530Z"
    }
   },
   "outputs": [],
   "source": [
    "z.backward()"
   ]
  },
  {
   "cell_type": "code",
   "execution_count": 11,
   "metadata": {
    "ExecuteTime": {
     "end_time": "2019-09-01T15:06:44.084173Z",
     "start_time": "2019-09-01T15:06:44.076233Z"
    }
   },
   "outputs": [
    {
     "data": {
      "text/plain": [
       "tensor(18., grad_fn=<MeanBackward0>)"
      ]
     },
     "execution_count": 11,
     "metadata": {},
     "output_type": "execute_result"
    }
   ],
   "source": [
    "z"
   ]
  },
  {
   "cell_type": "markdown",
   "metadata": {},
   "source": [
    "# Exercise 1"
   ]
  },
  {
   "cell_type": "code",
   "execution_count": 32,
   "metadata": {
    "ExecuteTime": {
     "end_time": "2019-09-01T15:18:18.871088Z",
     "start_time": "2019-09-01T15:18:18.863124Z"
    }
   },
   "outputs": [
    {
     "name": "stdout",
     "output_type": "stream",
     "text": [
      "tensor([[-1.3289,  0.0696],\n",
      "        [-1.4795,  3.8869]])\n",
      "torch.Size([2, 2])\n"
     ]
    }
   ],
   "source": [
    "x = torch.randn(2,2)\n",
    "print(x)\n",
    "print(x.shape)"
   ]
  },
  {
   "cell_type": "code",
   "execution_count": 33,
   "metadata": {
    "ExecuteTime": {
     "end_time": "2019-09-01T15:18:21.074287Z",
     "start_time": "2019-09-01T15:18:21.060557Z"
    }
   },
   "outputs": [
    {
     "name": "stdout",
     "output_type": "stream",
     "text": [
      "tensor([[[-1.3289,  0.0696],\n",
      "         [-1.4795,  3.8869]]])\n"
     ]
    },
    {
     "data": {
      "text/plain": [
       "torch.Size([1, 2, 2])"
      ]
     },
     "execution_count": 33,
     "metadata": {},
     "output_type": "execute_result"
    }
   ],
   "source": [
    "x.unsqueeze_(0)\n",
    "print(x)\n",
    "x.shape"
   ]
  },
  {
   "cell_type": "markdown",
   "metadata": {},
   "source": [
    "# Exercise: 2"
   ]
  },
  {
   "cell_type": "code",
   "execution_count": 34,
   "metadata": {
    "ExecuteTime": {
     "end_time": "2019-09-01T15:19:42.542158Z",
     "start_time": "2019-09-01T15:19:42.531029Z"
    }
   },
   "outputs": [
    {
     "name": "stdout",
     "output_type": "stream",
     "text": [
      "tensor([[-1.3289,  0.0696],\n",
      "        [-1.4795,  3.8869]])\n"
     ]
    },
    {
     "data": {
      "text/plain": [
       "torch.Size([2, 2])"
      ]
     },
     "execution_count": 34,
     "metadata": {},
     "output_type": "execute_result"
    }
   ],
   "source": [
    "x.squeeze_(0)\n",
    "print(x)\n",
    "x.shape"
   ]
  },
  {
   "cell_type": "markdown",
   "metadata": {},
   "source": [
    "# Exercise: 3"
   ]
  },
  {
   "cell_type": "code",
   "execution_count": 37,
   "metadata": {
    "ExecuteTime": {
     "end_time": "2019-09-01T15:23:15.886984Z",
     "start_time": "2019-09-01T15:23:15.879119Z"
    }
   },
   "outputs": [
    {
     "data": {
      "text/plain": [
       "tensor([[5, 6, 6],\n",
       "        [7, 6, 4],\n",
       "        [6, 6, 5],\n",
       "        [3, 7, 7],\n",
       "        [7, 7, 3]])"
      ]
     },
     "execution_count": 37,
     "metadata": {},
     "output_type": "execute_result"
    }
   ],
   "source": [
    "torch.randint(3, 8, (5, 3))"
   ]
  },
  {
   "cell_type": "code",
   "execution_count": 40,
   "metadata": {
    "ExecuteTime": {
     "end_time": "2019-09-01T15:24:44.260126Z",
     "start_time": "2019-09-01T15:24:44.249746Z"
    }
   },
   "outputs": [
    {
     "data": {
      "text/plain": [
       "tensor([[5.1243, 5.7978, 4.3882],\n",
       "        [3.4439, 3.4249, 7.2363],\n",
       "        [7.6273, 5.4540, 5.0045],\n",
       "        [3.3700, 6.1493, 3.9137],\n",
       "        [3.3918, 7.9251, 6.4696]])"
      ]
     },
     "execution_count": 40,
     "metadata": {},
     "output_type": "execute_result"
    }
   ],
   "source": [
    "torch.Tensor(5, 3).uniform_(3, 8)"
   ]
  },
  {
   "cell_type": "markdown",
   "metadata": {
    "ExecuteTime": {
     "end_time": "2019-09-01T15:26:04.361149Z",
     "start_time": "2019-09-01T15:26:04.350001Z"
    }
   },
   "source": [
    "# Exercise: 4"
   ]
  },
  {
   "cell_type": "code",
   "execution_count": 49,
   "metadata": {
    "ExecuteTime": {
     "end_time": "2019-09-01T15:28:05.008565Z",
     "start_time": "2019-09-01T15:28:04.996157Z"
    }
   },
   "outputs": [
    {
     "data": {
      "text/plain": [
       "tensor([[ 0.7784,  0.2667,  0.7935,  1.9736, -0.6327],\n",
       "        [-2.4924,  0.6358,  1.0391, -0.7198,  0.9486],\n",
       "        [ 0.1138,  0.3129, -0.3111,  0.0648, -0.3483],\n",
       "        [ 1.2208, -0.7782,  1.0855,  0.8670,  0.3286],\n",
       "        [-1.1222,  0.0601,  0.3316,  1.2419, -0.3176],\n",
       "        [-1.0667,  0.6064,  1.0086, -0.8000,  0.8791],\n",
       "        [-0.9895,  1.3998,  0.1910,  0.7361,  1.3052],\n",
       "        [ 1.3701,  0.6423,  0.8081,  0.3887,  1.1566],\n",
       "        [-0.3152,  0.1587, -1.0851,  0.4903,  0.1593],\n",
       "        [-0.9335, -1.3974, -2.9171,  0.3361,  1.4202]])"
      ]
     },
     "execution_count": 49,
     "metadata": {},
     "output_type": "execute_result"
    }
   ],
   "source": [
    "x = torch.Tensor(10, 5)\n",
    "\n",
    "x.normal_(mean=0, std=1) #mean 0 and std=1"
   ]
  },
  {
   "cell_type": "markdown",
   "metadata": {},
   "source": [
    "# Exercise: 5"
   ]
  },
  {
   "cell_type": "code",
   "execution_count": 61,
   "metadata": {
    "ExecuteTime": {
     "end_time": "2019-09-01T15:33:06.870858Z",
     "start_time": "2019-09-01T15:33:06.862305Z"
    }
   },
   "outputs": [
    {
     "data": {
      "text/plain": [
       "tensor([0, 1, 2, 4])"
      ]
     },
     "execution_count": 61,
     "metadata": {},
     "output_type": "execute_result"
    }
   ],
   "source": [
    "x = torch.Tensor([1, 1, 1, 0, 1])\n",
    "torch.nonzero(x).view(-1)"
   ]
  },
  {
   "cell_type": "markdown",
   "metadata": {},
   "source": [
    "# Exercise: 6"
   ]
  },
  {
   "cell_type": "code",
   "execution_count": 85,
   "metadata": {
    "ExecuteTime": {
     "end_time": "2019-09-01T15:39:55.754803Z",
     "start_time": "2019-09-01T15:39:55.744516Z"
    }
   },
   "outputs": [],
   "source": [
    "x = torch.Tensor(3, 1)"
   ]
  },
  {
   "cell_type": "code",
   "execution_count": 87,
   "metadata": {
    "ExecuteTime": {
     "end_time": "2019-09-01T15:40:05.402059Z",
     "start_time": "2019-09-01T15:40:05.393701Z"
    }
   },
   "outputs": [
    {
     "data": {
      "text/plain": [
       "tensor([[2.5226e-18, 2.5226e-18, 2.5226e-18, 2.5226e-18],\n",
       "        [1.6898e-04, 1.6898e-04, 1.6898e-04, 1.6898e-04],\n",
       "        [1.0527e-11, 1.0527e-11, 1.0527e-11, 1.0527e-11]])"
      ]
     },
     "execution_count": 87,
     "metadata": {},
     "output_type": "execute_result"
    }
   ],
   "source": [
    "x = x.expand(3, 4)\n",
    "x"
   ]
  },
  {
   "cell_type": "code",
   "execution_count": 89,
   "metadata": {
    "ExecuteTime": {
     "end_time": "2019-09-01T15:40:29.530987Z",
     "start_time": "2019-09-01T15:40:29.518740Z"
    }
   },
   "outputs": [
    {
     "data": {
      "text/plain": [
       "tensor([[-1.3266e-10, -1.3266e-10, -1.3266e-10, -1.3266e-10],\n",
       "        [ 3.0789e-41,  3.0789e-41,  3.0789e-41,  3.0789e-41],\n",
       "        [-1.5370e-10, -1.5370e-10, -1.5370e-10, -1.5370e-10]])"
      ]
     },
     "execution_count": 89,
     "metadata": {},
     "output_type": "execute_result"
    }
   ],
   "source": [
    "x = torch.Tensor(3, 1)\n",
    "y = torch.Tensor(3, 4)\n",
    "x.expand_as(y)"
   ]
  },
  {
   "cell_type": "markdown",
   "metadata": {},
   "source": [
    "# Exercise: 7"
   ]
  },
  {
   "cell_type": "code",
   "execution_count": 90,
   "metadata": {
    "ExecuteTime": {
     "end_time": "2019-09-01T15:41:51.393903Z",
     "start_time": "2019-09-01T15:41:51.380589Z"
    }
   },
   "outputs": [
    {
     "data": {
      "text/plain": [
       "tensor([[[0.8481, 1.1031, 0.9539, 1.1527],\n",
       "         [0.5319, 0.4473, 0.3699, 0.4971],\n",
       "         [1.6326, 1.5202, 1.4203, 1.5472],\n",
       "         [1.3562, 1.1865, 0.8529, 1.3167]],\n",
       "\n",
       "        [[0.6579, 1.3257, 0.9248, 1.0498],\n",
       "         [1.1434, 1.6675, 0.9907, 1.4457],\n",
       "         [0.5344, 1.1817, 0.6995, 0.8913],\n",
       "         [0.9857, 2.1115, 1.4314, 1.4365]],\n",
       "\n",
       "        [[1.7892, 1.6843, 1.3642, 2.5696],\n",
       "         [1.3544, 1.3804, 1.3123, 2.1169],\n",
       "         [1.3762, 0.9285, 0.7865, 1.5726],\n",
       "         [1.3827, 1.2161, 0.7844, 1.8726]]])"
      ]
     },
     "execution_count": 90,
     "metadata": {},
     "output_type": "execute_result"
    }
   ],
   "source": [
    "x = torch.rand(3,4,5)\n",
    "y = torch.rand(3,5,4)\n",
    "torch.bmm(x, y)"
   ]
  },
  {
   "cell_type": "markdown",
   "metadata": {},
   "source": [
    "# Exercise: 8"
   ]
  },
  {
   "cell_type": "code",
   "execution_count": 132,
   "metadata": {
    "ExecuteTime": {
     "end_time": "2019-09-01T15:51:38.755258Z",
     "start_time": "2019-09-01T15:51:38.747789Z"
    }
   },
   "outputs": [],
   "source": [
    "x = torch.rand(3,4,5)\n",
    "y = torch.rand(5,4)"
   ]
  },
  {
   "cell_type": "code",
   "execution_count": 133,
   "metadata": {
    "ExecuteTime": {
     "end_time": "2019-09-01T15:51:41.737460Z",
     "start_time": "2019-09-01T15:51:41.726274Z"
    }
   },
   "outputs": [
    {
     "data": {
      "text/plain": [
       "tensor([[[0.5413, 0.0129, 0.3002, 0.7015, 0.4328],\n",
       "         [0.2465, 0.8919, 0.7661, 0.7208, 0.6462],\n",
       "         [0.5218, 0.3262, 0.3897, 0.4318, 0.7376],\n",
       "         [0.6305, 0.3516, 0.6883, 0.5035, 0.7270]],\n",
       "\n",
       "        [[0.8896, 0.9755, 0.6796, 0.0707, 0.3400],\n",
       "         [0.0699, 0.0188, 0.1514, 0.3427, 0.5004],\n",
       "         [0.8054, 0.1139, 0.5378, 0.6899, 0.4956],\n",
       "         [0.6933, 0.0038, 0.9476, 0.8401, 0.1806]],\n",
       "\n",
       "        [[0.6816, 0.3605, 0.3528, 0.0246, 0.5015],\n",
       "         [0.5215, 0.7860, 0.9462, 0.6302, 0.4671],\n",
       "         [0.7337, 0.2485, 0.7982, 0.3566, 0.0075],\n",
       "         [0.0137, 0.1546, 0.1029, 0.0840, 0.8884]]])"
      ]
     },
     "execution_count": 133,
     "metadata": {},
     "output_type": "execute_result"
    }
   ],
   "source": [
    "x"
   ]
  },
  {
   "cell_type": "code",
   "execution_count": 135,
   "metadata": {
    "ExecuteTime": {
     "end_time": "2019-09-01T15:51:48.594716Z",
     "start_time": "2019-09-01T15:51:48.585489Z"
    }
   },
   "outputs": [
    {
     "data": {
      "text/plain": [
       "tensor([[[0.5414, 0.0551, 0.3057, 0.1609],\n",
       "         [0.0192, 0.4428, 0.6564, 0.5359],\n",
       "         [0.6694, 0.3144, 0.8834, 0.1748],\n",
       "         [0.0656, 0.0126, 0.3808, 0.1750],\n",
       "         [0.9869, 0.8175, 0.5100, 0.7709]],\n",
       "\n",
       "        [[0.5414, 0.0551, 0.3057, 0.1609],\n",
       "         [0.0192, 0.4428, 0.6564, 0.5359],\n",
       "         [0.6694, 0.3144, 0.8834, 0.1748],\n",
       "         [0.0656, 0.0126, 0.3808, 0.1750],\n",
       "         [0.9869, 0.8175, 0.5100, 0.7709]],\n",
       "\n",
       "        [[0.5414, 0.0551, 0.3057, 0.1609],\n",
       "         [0.0192, 0.4428, 0.6564, 0.5359],\n",
       "         [0.6694, 0.3144, 0.8834, 0.1748],\n",
       "         [0.0656, 0.0126, 0.3808, 0.1750],\n",
       "         [0.9869, 0.8175, 0.5100, 0.7709]]])"
      ]
     },
     "execution_count": 135,
     "metadata": {},
     "output_type": "execute_result"
    }
   ],
   "source": [
    "y2 = torch.Tensor(3, 5, 4)\n",
    "y = y.expand_as(y2)\n",
    "y"
   ]
  },
  {
   "cell_type": "code",
   "execution_count": 136,
   "metadata": {
    "ExecuteTime": {
     "end_time": "2019-09-01T15:51:50.774088Z",
     "start_time": "2019-09-01T15:51:50.764285Z"
    }
   },
   "outputs": [
    {
     "data": {
      "text/plain": [
       "tensor([[[0.9674, 0.4926, 0.9270, 0.6029],\n",
       "         [1.3484, 1.1867, 1.9417, 1.2759],\n",
       "         [1.3058, 0.9041, 1.2584, 0.9710],\n",
       "         [1.5593, 1.0075, 1.5941, 1.0587]],\n",
       "\n",
       "        [[1.2954, 0.9734, 1.7130, 1.0592],\n",
       "         [0.6558, 0.4732, 0.5531, 0.4935],\n",
       "         [1.3327, 0.6778, 1.3116, 0.7875],\n",
       "         [1.2430, 0.4960, 1.4636, 0.5654]],\n",
       "\n",
       "        [[1.1087, 0.7185, 1.0219, 0.7555],\n",
       "         [1.4331, 1.0640, 1.9895, 1.1409],\n",
       "         [0.9671, 0.4120, 1.2322, 0.4589],\n",
       "         [0.9615, 0.8289, 0.6816, 0.8026]]])"
      ]
     },
     "execution_count": 136,
     "metadata": {},
     "output_type": "execute_result"
    }
   ],
   "source": [
    "torch.bmm(x, y)"
   ]
  },
  {
   "cell_type": "code",
   "execution_count": 137,
   "metadata": {
    "ExecuteTime": {
     "end_time": "2019-09-01T15:52:07.235289Z",
     "start_time": "2019-09-01T15:52:07.220698Z"
    }
   },
   "outputs": [
    {
     "data": {
      "text/plain": [
       "tensor([[[0.1934, 0.5644, 0.6113, 0.3344],\n",
       "         [1.0347, 1.3323, 1.6011, 1.3337],\n",
       "         [0.8783, 0.9418, 1.0668, 1.0417],\n",
       "         [0.8900, 1.0076, 1.1627, 1.1287]],\n",
       "\n",
       "        [[1.0577, 1.3016, 1.2412, 1.3507],\n",
       "         [0.6521, 1.0333, 0.8437, 0.8873],\n",
       "         [0.9052, 1.5109, 1.4642, 1.2370],\n",
       "         [1.0921, 1.4228, 1.7841, 1.3520]],\n",
       "\n",
       "        [[0.5348, 1.3154, 0.9643, 0.9494],\n",
       "         [1.2301, 1.8103, 1.6966, 1.6391],\n",
       "         [1.0295, 1.1246, 1.0754, 1.2145],\n",
       "         [1.0552, 1.2537, 1.4872, 1.2681]]])"
      ]
     },
     "execution_count": 137,
     "metadata": {},
     "output_type": "execute_result"
    }
   ],
   "source": [
    "a = torch.rand(3,4,5)\n",
    "b = torch.rand(5,4)\n",
    "torch.bmm(a, b.unsqueeze(0).expand(a.size(0), *b.size()))"
   ]
  }
 ],
 "metadata": {
  "kernelspec": {
   "display_name": "Python 3",
   "language": "python",
   "name": "python3"
  },
  "language_info": {
   "codemirror_mode": {
    "name": "ipython",
    "version": 3
   },
   "file_extension": ".py",
   "mimetype": "text/x-python",
   "name": "python",
   "nbconvert_exporter": "python",
   "pygments_lexer": "ipython3",
   "version": "3.7.3"
  }
 },
 "nbformat": 4,
 "nbformat_minor": 2
}
